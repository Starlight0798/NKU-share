{
 "cells": [
  {
   "cell_type": "markdown",
   "metadata": {
    "inputHidden": false
   },
   "source": [
    "# 逻辑推理 - 斑马问题\n",
    "\n",
    "\n",
    "--------------------------------------\n",
    "\n",
    "\n",
    "\n",
    "\n",
    "\n",
    "\n",
    "\n",
    "\n",
    "\n"
   ]
  },
  {
   "cell_type": "markdown",
   "metadata": {},
   "source": [
    "# 1. 实验介绍  \n"
   ]
  },
  {
   "cell_type": "markdown",
   "metadata": {},
   "source": [
    "## 1.1 实验背景\n",
    "逻辑编程是一种编程典范，它设置答案须匹配的规则来解决问题，而非设置步骤来解决问题。过程是**“事实+规则=结果”**。\n",
    "\n",
    "人工智能的发展与逻辑编程的发展是一个相辅相成的过程，早期的人工智能以规则和逻辑推理作为主要研究方向，这在逻辑编程的发展中发挥了重要的影响，另外更好更快的逻辑编程也推动了人工智能的发展，例如专家系统、知识图谱和自动定理证明。\n",
    "\n",
    "Python 是一种解释型、面向对象、动态数据类型的高级程序设计语言。\n",
    "\n",
    "在数据驱动学习时代，Python 的崛起已经是一个不争的事实，并且成为人工智能算法的第一语言。\n",
    "\n",
    "在本次实验中，我们学习将 Python 应用于逻辑编程，并尝试自主撰写逻辑规则解决斑马问题以及八皇后问题。"
   ]
  },
  {
   "cell_type": "markdown",
   "metadata": {},
   "source": [
    "## 1.2 实验内容\n",
    "**斑马问题：** 5 个不同国家（英国、西班牙、日本、意大利、挪威）且工作各不相同（油漆工、摄影师、外交官、小提琴家、医生）的人分别住在一条街上的 5 所房子里，  \n",
    "每所房子的颜色不同（红色、白色、蓝色、黄色、绿色），每个人都有自己养的不同宠物（狗、蜗牛、斑马、马、狐狸），喜欢喝不同的饮料（矿泉水、牛奶、茶、橘子汁、咖啡）。\n",
    "\n",
    "根据以下提示，你能告诉我哪所房子里的人养斑马，哪所房子里的人喜欢喝矿泉水吗？\n",
    "\n",
    "1. 英国人住在红色的房子里\n",
    "2. 西班牙人养了一条狗\n",
    "3. 日本人是一个油漆工\n",
    "4. 意大利人喜欢喝茶\n",
    "5. 挪威人住在左边的第一个房子里\n",
    "6. 绿房子在白房子的右边\n",
    "7. 摄影师养了一只蜗牛\n",
    "8. 外交官住在黄房子里\n",
    "9. 中间那个房子的人喜欢喝牛奶\n",
    "10. 喜欢喝咖啡的人住在绿房子里\n",
    "11. 挪威人住在蓝色的房子旁边\n",
    "12. 小提琴家喜欢喝橘子汁\n",
    "13. 养狐狸的人所住的房子与医生的房子相邻\n",
    "14. 养马的人所住的房子与外交官的房子相邻\n",
    "\n",
    "参考资料：[斑马难题-百度百科](https://baike.baidu.com/item/%E6%96%91%E9%A9%AC%E9%9A%BE%E9%A2%98/3709972?fr=aladdin)"
   ]
  },
  {
   "cell_type": "markdown",
   "metadata": {},
   "source": [
    "## 1.3 实验要求\n",
    "* 基本掌握逻辑编程的思想，了解逻辑编程与命令式编程的区别\n",
    "* 能够依据给定的事实以及规则编写代码，解决逻辑约束问题（CLP）\n",
    "* 使用 Python 语言(可参考kanren包)\n"
   ]
  },
  {
   "cell_type": "markdown",
   "metadata": {},
   "source": [
    "## 1.4 注意事项\n",
    "+ Python 与 Python Package 的使用方式，可在右侧 `API文档` 中查阅。\n",
    "+ 当右上角的『Python 3』长时间指示为运行中的时候，造成代码无法执行时，可以重新启动 Kernel 解决（左上角『Kernel』-『Restart Kernel』）。"
   ]
  },
  {
   "cell_type": "markdown",
   "metadata": {},
   "source": [
    "# 2. 实验内容\n"
   ]
  },
  {
   "cell_type": "markdown",
   "metadata": {},
   "source": [
    "## 2.1 kanren简介   \n",
    "[kanren] (https://github.com/logpy/logpy) 是 Python 的一个逻辑编程包。  \n",
    "备注：目前已停更，本案例仅采用其以了解逻辑编程与命令式编程的区别，学生可自由发挥，选择该逻辑编程包或自己定义逻辑语法"
   ]
  },
  {
   "cell_type": "code",
   "execution_count": null,
   "metadata": {},
   "outputs": [],
   "source": [
    "from kanren import run, eq, membero, var, conde        # kanren一个描述性Python逻辑编程系统\n",
    "from kanren.core import lall                           # lall包用于定义规则"
   ]
  },
  {
   "cell_type": "markdown",
   "metadata": {},
   "source": [
    "### 2.1.1 等价关系表达式\n",
    "在该Cell块中，我们将介绍等价关系表达式eq(x, y),其意即为变量x等价于变量y."
   ]
  },
  {
   "cell_type": "code",
   "execution_count": null,
   "metadata": {},
   "outputs": [],
   "source": [
    "# 等价关系格式一: eq(var(), value) / eq(var(), var()) \n",
    "x = var()                        # 变量声明，kanren的推理基于变量var进行\n",
    "z = var()      \n",
    "run(0, x, eq(x, z), eq(z, 3))    # 规则求解器，kanren的推理通过run函数进行\n",
    "                                 # 格式要求为: run(n, var(), rules,[rules, ...])\n",
    "                                 # 求解指定规则下符合的变量结果"
   ]
  },
  {
   "cell_type": "code",
   "execution_count": null,
   "metadata": {},
   "outputs": [],
   "source": [
    "# 等价关系格式二: (eq, var(), value) / (eq, var(), var()) \n",
    "x = var()\n",
    "z = var()\n",
    "run(0, x, (eq, x, z), (eq, z, 3))"
   ]
  },
  {
   "cell_type": "markdown",
   "metadata": {},
   "source": [
    "### 2.1.2 成员关系表达式"
   ]
  },
  {
   "cell_type": "code",
   "execution_count": null,
   "metadata": {},
   "outputs": [],
   "source": [
    "# 属于关系格式 membero(var(), list / tuple)\n",
    "x = var()\n",
    "run(0, x, membero(x, (1, 2, 3)),  # x is a member of (1, 2, 3) #x是（1,2,3）的成员之一\n",
    "          membero(x, (2, 3, 4)))  # x is a member of (2, 3, 4) #x是（2,3,4）的成员之一"
   ]
  },
  {
   "cell_type": "markdown",
   "metadata": {},
   "source": [
    "### 2.1.3 逻辑和/或的目标构造函数"
   ]
  },
  {
   "cell_type": "code",
   "execution_count": null,
   "metadata": {},
   "outputs": [],
   "source": [
    "# 逻辑和关系格式 conde((rules, rules))\n",
    "x = var()\n",
    "run(0, x, conde((membero(x, (1, 2, 3)), membero(x, (2, 3, 4)))))"
   ]
  },
  {
   "cell_type": "code",
   "execution_count": null,
   "metadata": {},
   "outputs": [],
   "source": [
    "# 逻辑或关系格式 conde([rules], [rules]))\n",
    "x = var()\n",
    "run(0, x, conde([membero(x, (1, 2, 3))], [membero(x, (2, 3, 4))]))"
   ]
  },
  {
   "cell_type": "markdown",
   "metadata": {},
   "source": [
    "### 2.1.4 定义规则集合"
   ]
  },
  {
   "cell_type": "code",
   "execution_count": null,
   "metadata": {},
   "outputs": [],
   "source": [
    "# 调用lall包定义规则集合, lall(rules, [rules, ...])\n",
    "x = var()\n",
    "z = var()\n",
    "rules = lall(\n",
    "    eq(x, z), \n",
    "    eq(z, 3)\n",
    ")\n",
    "run(0, x, rules)"
   ]
  },
  {
   "cell_type": "code",
   "execution_count": null,
   "metadata": {},
   "outputs": [],
   "source": [
    "# 调用lall包定义规则集合, lall(rules, [rules, ...])\n",
    "x = var()\n",
    "z = var()\n",
    "rules = lall(\n",
    "    (eq, x, z), \n",
    "    (eq, z, 3)\n",
    ")\n",
    "run(0, x, rules)"
   ]
  },
  {
   "cell_type": "markdown",
   "metadata": {},
   "source": [
    "## 2.2 逻辑推理智能体\n",
    "+ 完成 Agent Cell 后，在左侧 `提交结果` 的标签中，把整个 Agent Cell 转化为 main.py 文件进行`系统测试`\n",
    "+ 能通过测试就可以**提交结果**。\n",
    "\n",
    "请在指定区域内完成作答，Agent Cell模块通过solve函数进行输出，输出格式要求如下：\n",
    "1. 输出正确的五条匹配信息；\n",
    "2. 每条匹配信息依次包含(国家，工作，饮料，宠物，颜色)五个元素；\n",
    "3. 例如('英国人', '油漆工', '茶', '狗', '红色')即为正确格式，但不是本题答案."
   ]
  },
  {
   "cell_type": "code",
   "execution_count": null,
   "metadata": {},
   "outputs": [],
   "source": [
    "from kanren import run, eq, membero, var, conde        # kanren一个描述性Python逻辑编程系统\n",
    "from kanren.core import lall                           # lall包用于定义规则\n",
    "import time\n",
    "\n",
    "###############################################################################\n",
    "####             可在此处定义自己所需要用到的自定义函数(可选)                  #### \n",
    "####   提示：定义左邻近规则left(), 定义右邻近规则right(),定义邻近规则next()    ####\n",
    "###############################################################################\n",
    "#                                                                             #\n",
    "def left(q, p, list):\n",
    "    return membero((q, p), zip(list, list[1:]))\n",
    "\n",
    "\n",
    "def next(q, p, list):  # p q 相邻意味着要么p在q左边，要么q在p左边\n",
    "    return conde([left(q, p, list)], [left(p, q, list)])\n",
    "\n",
    "#                                                                             #\n",
    "###############################################################################\n",
    "#################                非必要性工作                 ################## \n",
    "###############################################################################\n",
    "\n",
    "class Agent:\n",
    "    \"\"\"\n",
    "    推理智能体.\n",
    "    \"\"\"\n",
    "    \n",
    "    def __init__(self):\n",
    "        \"\"\"\n",
    "        智能体初始化.\n",
    "        \"\"\"\n",
    "        \n",
    "        self.units = var()              # 单个unit变量指代一座房子的信息(国家，工作，饮料，宠物，颜色) \n",
    "                                        # 例如('英国人', '油漆工', '茶', '狗', '红色')即为正确格式，但不是本题答案\n",
    "                                        # 请基于给定的逻辑提示求解五条正确的答案\n",
    "        self.rules_zebraproblem = None  # 用lall包定义逻辑规则\n",
    "        self.solutions = None           # 存储结果\n",
    "        \n",
    "    def define_rules(self):\n",
    "        \"\"\"\n",
    "        定义逻辑规则.\n",
    "        \"\"\"\n",
    "\n",
    "        self.rules_zebraproblem = lall(\n",
    "            (eq, (var(), var(), var(), var(), var()), self.units),   # self.units共包含五个unit成员，即每一个unit对应的var都指代一座房子(国家，工作，饮料，宠物，颜色) \n",
    "                                                    # 各个unit房子又包含五个成员属性: (国家，工作，饮料，宠物，颜色)\n",
    "            \n",
    "            ##############################################################################\n",
    "            ####               请在以下区域中添加逻辑规则，感受逻辑约束问题               #### \n",
    "            ####     输出：五条房子匹配信息('英国人', '油漆工', '茶', '狗', '红色')       ####\n",
    "            ##############################################################################\n",
    "            #                                                                            #\n",
    "            \n",
    "            # 示例：基于问题信息可以提炼出，有人养斑马，有人喜欢和矿泉水等信息\n",
    "            \n",
    "            (membero, ('英国人', var(), var(), var(), '红色'), self.units),  # 英国人住在红房子里\n",
    "            (membero, ('西班牙人', var(), var(), '狗', var()), self.units),  # 西班牙人养了一条狗\n",
    "            (membero, ('日本人', '油漆工', var(), var(), var()), self.units),  # 日本人是一个油漆工\n",
    "            (membero, ('意大利人', var(), '茶', var(), var()), self.units),  # 意大利人喝茶。\n",
    "            (eq, (('挪威人', var(), var(), var(), var()), var(), var(), var(), var()), self.units),  # 挪威人住在左边的第一个房子里\n",
    "            \n",
    "            (left, # 绿房子在白房子的右边 \n",
    "            (var(), var(), var(), var(), '绿色'),\n",
    "            (var(), var(), var(), var(), '白色'),\n",
    "            self.units),\n",
    "            \n",
    "            (membero, (var(), '摄影师', var(), '蜗牛', var()), self.units),  # 摄影师养了一只蜗牛\n",
    "            (membero, (var(), '外交官', var(), var(), '黄色'), self.units),  # 外交官住在黄房子里\n",
    "            (eq, (var(), var(),(var(), var(), '牛奶', var(), var()),var(), var()), self.units),  # 中间那个房子的人喜欢喝牛奶\n",
    "            (membero, (var(), var(), '咖啡', var(), '绿色'), self.units),  # 喜欢喝咖啡的人住在绿房子里\n",
    "            \n",
    "            (next, ('挪威人', var(), var(), var(), var()),\n",
    "            (var(), var(), var(), var(), '蓝色'), self.units),  # 挪威人住在蓝房子旁边。\n",
    "            (membero, (var(), '小提琴家', '橘子汁', var(), var()), self.units),  # 小提琴家喜欢喝橘子汁\n",
    "\n",
    "            (next, (var(), '医生', var(), var(), var()),  # 养狐狸的人所住的房子与医生的房子相邻\n",
    "            (var(), var(), var(), '狐狸', var()), self.units),\n",
    "\n",
    "            (next, (var(), '外交官', var(), var(), var()),  # 养马的人所住的房子与外交官的房子相邻\n",
    "            (var(), var(), var(), '马', var()), self.units),\n",
    "\n",
    "            (membero, (var(), var(), var(), '斑马', var()), self.units),  # 有人养斑马\n",
    "            (membero, (var(), var(), '矿泉水', var(), var()), self.units) # 有人喝水\n",
    "\n",
    "            #                                                                            #\n",
    "            ##############################################################################\n",
    "            #################             完成后请记得提交作业             ################# \n",
    "            ##############################################################################\n",
    "\n",
    "        )\n",
    "    \n",
    "    def solve(self):\n",
    "        \"\"\"\n",
    "        规则求解器(请勿修改此函数).\n",
    "        return: 斑马规则求解器给出的答案，共包含五条匹配信息，解唯一.\n",
    "        \"\"\"\n",
    "        \n",
    "        self.define_rules()\n",
    "        self.solutions = run(0, self.units, self.rules_zebraproblem)\n",
    "        return self.solutions\n"
   ]
  },
  {
   "cell_type": "markdown",
   "metadata": {},
   "source": [
    "## 2.3 逻辑推导"
   ]
  },
  {
   "cell_type": "code",
   "execution_count": null,
   "metadata": {},
   "outputs": [],
   "source": [
    "agent = Agent()\n",
    "solutions = agent.solve()\n",
    "\n",
    "# 提取解释器的输出\n",
    "output = [house for house in solutions[0] if '斑马' in house][0][4]\n",
    "print ('\\n{}房子里的人养斑马'.format(output))\n",
    "output = [house for house in solutions[0] if '矿泉水' in house][0][4]\n",
    "print ('{}房子里的人喜欢喝矿泉水'.format(output))\n",
    "\n",
    "# 解释器的输出结果展示\n",
    "for i in solutions[0]:\n",
    "    print(i)"
   ]
  },
  {
   "cell_type": "code",
   "execution_count": null,
   "metadata": {},
   "outputs": [],
   "source": []
  }
 ],
 "metadata": {
  "kernelspec": {
   "display_name": "base",
   "language": "python",
   "name": "python3"
  },
  "language_info": {
   "codemirror_mode": {
    "name": "ipython",
    "version": 3
   },
   "file_extension": ".py",
   "mimetype": "text/x-python",
   "name": "python",
   "nbconvert_exporter": "python",
   "pygments_lexer": "ipython3",
   "version": "3.9.13"
  },
  "nbTranslate": {
   "displayLangs": [
    "fr",
    "en"
   ],
   "hotkey": "alt-t",
   "langInMainMenu": true,
   "sourceLang": "en",
   "targetLang": "fr",
   "useGoogleTranslate": true
  },
  "toc": {
   "base_numbering": 1,
   "nav_menu": {},
   "number_sections": false,
   "sideBar": true,
   "skip_h1_title": false,
   "title_cell": "Table of Contents",
   "title_sidebar": "Contents",
   "toc_cell": false,
   "toc_position": {},
   "toc_section_display": true,
   "toc_window_display": false
  },
  "vscode": {
   "interpreter": {
    "hash": "e42634819b8c191a5d07eaf23810ff32516dd8d3875f28ec3e488928fbd3c187"
   }
  }
 },
 "nbformat": 4,
 "nbformat_minor": 4
}
