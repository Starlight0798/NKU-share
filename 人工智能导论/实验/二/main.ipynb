{
 "cells": [
  {
   "cell_type": "markdown",
   "metadata": {},
   "source": [
    "# 逻辑推理 - 八皇后问题\n",
    "# 1. 实验介绍  \n",
    "\n",
    "\n",
    "\n",
    "\n",
    "\n",
    "\n",
    "\n",
    "\n",
    "\n",
    "\n"
   ]
  },
  {
   "cell_type": "markdown",
   "metadata": {},
   "source": [
    "## 1.1 实验背景\n",
    "逻辑编程是一种编程典范，它设置答案须匹配的规则来解决问题，而非设置步骤来解决问题。过程是**“事实+规则=结果”**。\n",
    "\n",
    "人工智能的发展与逻辑编程的发展是一个相辅相成的过程，早期的人工智能以规则和逻辑推理作为主要研究方向，这在逻辑编程的发展中发挥了重要的影响，另外更好更快的逻辑编程也推动了人工智能的发展，例如专家系统、知识图谱和自动定理证明。\n",
    "\n",
    "Python 是一种解释型、面向对象、动态数据类型的高级程序设计语言。\n",
    "\n",
    "在数据驱动学习时代，Python 的崛起已经是一个不争的事实，并且成为人工智能算法的第一语言。\n",
    "\n",
    "在本次实验中，我们学习将 Python 应用于逻辑编程，并尝试自主撰写逻辑规则解决斑马问题以及八皇后问题。"
   ]
  },
  {
   "cell_type": "markdown",
   "metadata": {},
   "source": [
    "## 1.2 实验内容\n",
    "**八皇后问题：** 如何能在 8*8 的国际象棋棋盘上放置八个皇后，使得任何一个皇后都无法直接吃掉其他的皇后？为了到达此目的，任两个皇后都不能处于同一条横行、纵行或斜线上。\n",
    "\n",
    "参考资料：[八皇后问题-百度百科](https://baike.baidu.com/item/%E5%85%AB%E7%9A%87%E5%90%8E%E9%97%AE%E9%A2%98/11053477?fr=aladdin)"
   ]
  },
  {
   "cell_type": "markdown",
   "metadata": {},
   "source": [
    "## 1.3 实验要求\n",
    "* 基本掌握逻辑编程的思想，了解逻辑编程与命令式编程的区别\n",
    "* 能够依据给定的事实以及规则编写代码，解决逻辑约束问题（CLP）\n",
    "* 使用 Python 语言"
   ]
  },
  {
   "cell_type": "markdown",
   "metadata": {},
   "source": [
    "## 1.4 注意事项\n",
    "+ Python 与 Python Package 的使用方式，可在右侧 `API文档` 中查阅。\n",
    "+ 当右上角的『Python 3』长时间指示为运行中的时候，造成代码无法执行时，可以重新启动 Kernel 解决（左上角『Kernel』-『Restart Kernel』）。"
   ]
  },
  {
   "cell_type": "markdown",
   "metadata": {},
   "source": [
    "## 1.5 作业提交  \n",
    "\n",
    "+ 在左侧 `提交作业` 的标签中，把整个 Game 转化为 main.py 文件进行`系统测试`。\n",
    "+ 能通过测试就可以**提交作业**。 \n",
    "\n",
    "请在指定区域内完成作答(可自由定义需要的函数)，Game Cell模块通过get_results函数进行输出，输出格式要求如下：\n",
    "1. 以序列格式存储结果输出，例如 [0,6,4,7,1,3,5,2] 指代在第 0-7 行依次在指定列落子；\n",
    "2. 给出尽可能多的求解，按解的数量按百分比给分，给出全部解此题满分\n",
    "3. 通过 self.solves.append([0,6,4,7,1,3,5,2]) 添加求解结果\n",
    "4. 最后结果以解的 list 格式输出\n"
   ]
  },
  {
   "cell_type": "markdown",
   "metadata": {},
   "source": [
    "# 2. 实验内容"
   ]
  },
  {
   "cell_type": "markdown",
   "metadata": {},
   "source": [
    "## 2.1 棋盘类"
   ]
  },
  {
   "cell_type": "markdown",
   "metadata": {},
   "source": [
    "Chessboard 类来自当前目录下的文件 board.py，主要功能: \n",
    "1. 八皇后棋盘绘制\n",
    "2. 胜负条件判定\n",
    "3. 合法落子点判定\n",
    "4. 玩家互动接口\n"
   ]
  },
  {
   "cell_type": "code",
   "execution_count": null,
   "metadata": {},
   "outputs": [],
   "source": [
    "import numpy as np           # 提供维度数组与矩阵运算\n",
    "import copy                  # 从copy模块导入深度拷贝方法\n",
    "from board import Chessboard\n"
   ]
  },
  {
   "cell_type": "markdown",
   "metadata": {},
   "source": [
    "## 2.2 棋盘展示\n",
    "### 2.2.1 棋盘类的初始化"
   ]
  },
  {
   "cell_type": "code",
   "execution_count": null,
   "metadata": {},
   "outputs": [],
   "source": [
    "# 初始化8*8八皇后棋盘\n",
    "chessboard = Chessboard()"
   ]
  },
  {
   "cell_type": "markdown",
   "metadata": {},
   "source": [
    "### 2.2.2 落子函数"
   ]
  },
  {
   "cell_type": "code",
   "execution_count": null,
   "metadata": {
    "scrolled": true
   },
   "outputs": [],
   "source": [
    "# 在棋盘上的坐标点（4，4）落子\n",
    "chessboard.setQueen(4,4)"
   ]
  },
  {
   "cell_type": "markdown",
   "metadata": {},
   "source": [
    "### 2.2.3 胜利条件"
   ]
  },
  {
   "cell_type": "code",
   "execution_count": null,
   "metadata": {},
   "outputs": [],
   "source": [
    "# 方法一，逐子落子\n",
    "# 选择False不打印中间过程棋盘\n",
    "# 完成八皇后落子\n",
    "# 终局胜负条件判定及输出\n",
    "chessboard.boardInit(False)\n",
    "chessboard.setQueen(0,0,False)\n",
    "chessboard.setQueen(1,6,False)\n",
    "chessboard.setQueen(2,4,False)\n",
    "chessboard.setQueen(3,7,False)\n",
    "chessboard.setQueen(4,1,False)\n",
    "chessboard.setQueen(5,3,False)\n",
    "chessboard.setQueen(6,5,False)\n",
    "chessboard.setQueen(7,2,False)\n",
    "chessboard.printChessboard(False)\n",
    "print(\"Win?    ----    \",chessboard.isWin())"
   ]
  },
  {
   "cell_type": "code",
   "execution_count": null,
   "metadata": {},
   "outputs": [],
   "source": [
    "# 方法二，序列落子\n",
    "# 选择False不打印中间过程棋盘\n",
    "# 完成八皇后落子\n",
    "# 终局胜负条件判定及输出\n",
    "chessboard.boardInit(False)\n",
    "Queen_setRow = [0,6,4,7,1,3,5,2]\n",
    "for i,item in enumerate(Queen_setRow):\n",
    "    chessboard.setQueen(i,item,False)\n",
    "chessboard.printChessboard(False)\n",
    "print(\"Win?    ----    \",chessboard.isWin())"
   ]
  },
  {
   "cell_type": "markdown",
   "metadata": {},
   "source": [
    "### 2.2.4 玩家试玩"
   ]
  },
  {
   "cell_type": "code",
   "execution_count": null,
   "metadata": {
    "scrolled": true
   },
   "outputs": [],
   "source": [
    "# 开放接口\n",
    "# 让玩家自行体验八皇后游戏\n",
    "chessboard = Chessboard()\n",
    "chessboard.play()"
   ]
  },
  {
   "cell_type": "markdown",
   "metadata": {},
   "source": [
    "## 2.3 八皇后搜索-游戏类\n",
    "+ 完成 Game Cell 后，在左侧 `提交作业` 的标签中，把整个 Game Cell 转化为 main.py 文件进行`系统测试`\n",
    "+ 能通过测试就可以**提交作业**。\n",
    "\n",
    "请在指定区域内完成作答(可自由定义需要的函数)，Game Cell 模块通过 get_results 函数进行输出，输出格式要求如下：\n",
    "1. 以序列格式存储结果输出，例如 [0,6,4,7,1,3,5,2] 指代在第 0-7 行依次在指定列落子；\n",
    "2. 给出尽可能多的求解，按解的数量按百分比给分，给出全部解此题满分\n",
    "3. 通过 self.solves.append([0,6,4,7,1,3,5,2]) 添加求解结果\n",
    "4. 最后结果以解的list格式输出"
   ]
  },
  {
   "cell_type": "code",
   "execution_count": null,
   "metadata": {},
   "outputs": [],
   "source": [
    "import numpy as np           # 提供维度数组与矩阵运算\n",
    "import copy                  # 从copy模块导入深度拷贝方法\n",
    "from board import Chessboard\n",
    "\n",
    "# 基于棋盘类，设计搜索策略\n",
    "class Game:\n",
    "    def __init__(self, show = True):\n",
    "        \"\"\"\n",
    "        初始化游戏状态.\n",
    "        \"\"\"\n",
    "        \n",
    "        self.chessBoard = Chessboard(show)\n",
    "        self.solves = []\n",
    "        self.gameInit()\n",
    "        \n",
    "    # 重置游戏\n",
    "    def gameInit(self, show = True):\n",
    "        \"\"\"\n",
    "        重置棋盘.\n",
    "        \"\"\"\n",
    "        \n",
    "        self.Queen_setRow = [-1] * 8\n",
    "        self.chessBoard.boardInit(False)\n",
    "        \n",
    "    ##############################################################################\n",
    "    ####                请在以下区域中作答(可自由添加自定义函数)                 #### \n",
    "    ####              输出：self.solves = 八皇后所有序列解的list                ####\n",
    "    ####             如:[[0,6,4,7,1,3,5,2],]代表八皇后的一个解为                ####\n",
    "    ####           (0,0),(1,6),(2,4),(3,7),(4,1),(5,3),(6,5),(7,2)            ####\n",
    "    ##############################################################################\n",
    "    #                                                                            #\n",
    "    \n",
    "    def is_safe(self, board, row, col):\n",
    "        for i in range(row):\n",
    "            if board[i] == col or abs(board[i] - col) == abs(i - row):\n",
    "                return False\n",
    "        return True\n",
    "\n",
    "    def solve_n_queens(self, board, row):\n",
    "        if row == len(board):\n",
    "            self.solves.append(copy.deepcopy(board))\n",
    "            return\n",
    "        for col in range(len(board)):\n",
    "            if self.is_safe(board, row, col):\n",
    "                board[row] = col\n",
    "                self.solve_n_queens(board, row + 1)\n",
    "    \n",
    "    def run(self, row=0):\n",
    "        board = [0 for _ in range(8)]\n",
    "        self.solve_n_queens(board, row)\n",
    "\n",
    "    #                                                                            #\n",
    "    ##############################################################################\n",
    "    #################             完成后请记得提交作业             ################# \n",
    "    ##############################################################################\n",
    "    \n",
    "    def showResults(self, result):\n",
    "        \"\"\"\n",
    "        结果展示.\n",
    "        \"\"\"\n",
    "        \n",
    "        self.chessBoard.boardInit(False)\n",
    "        for i,item in enumerate(result):\n",
    "            if item >= 0:\n",
    "                self.chessBoard.setQueen(i,item,False)\n",
    "        \n",
    "        self.chessBoard.printChessboard(False)\n",
    "    \n",
    "    def get_results(self):\n",
    "        \"\"\"\n",
    "        输出结果(请勿修改此函数).\n",
    "        return: 八皇后的序列解的list.\n",
    "        \"\"\"\n",
    "        \n",
    "        self.run()\n",
    "        return self.solves\n",
    "   "
   ]
  },
  {
   "cell_type": "markdown",
   "metadata": {},
   "source": [
    "## 2.4 八皇后搜索"
   ]
  },
  {
   "cell_type": "code",
   "execution_count": null,
   "metadata": {},
   "outputs": [],
   "source": [
    "game = Game()\n",
    "solutions = game.get_results()\n",
    "print('There are {} results.'.format(len(solutions)))\n",
    "game.showResults(solutions[0])"
   ]
  },
  {
   "cell_type": "code",
   "execution_count": null,
   "metadata": {},
   "outputs": [],
   "source": []
  }
 ],
 "metadata": {
  "kernelspec": {
   "display_name": "Python 3",
   "language": "python",
   "name": "python3"
  },
  "language_info": {
   "codemirror_mode": {
    "name": "ipython",
    "version": 3
   },
   "file_extension": ".py",
   "mimetype": "text/x-python",
   "name": "python",
   "nbconvert_exporter": "python",
   "pygments_lexer": "ipython3",
   "version": "3.9.13"
  },
  "nbTranslate": {
   "displayLangs": [
    "fr",
    "en"
   ],
   "hotkey": "alt-t",
   "langInMainMenu": true,
   "sourceLang": "en",
   "targetLang": "fr",
   "useGoogleTranslate": true
  },
  "toc": {
   "base_numbering": 1,
   "nav_menu": {},
   "number_sections": false,
   "sideBar": true,
   "skip_h1_title": false,
   "title_cell": "Table of Contents",
   "title_sidebar": "Contents",
   "toc_cell": false,
   "toc_position": {},
   "toc_section_display": true,
   "toc_window_display": false
  }
 },
 "nbformat": 4,
 "nbformat_minor": 4
}
